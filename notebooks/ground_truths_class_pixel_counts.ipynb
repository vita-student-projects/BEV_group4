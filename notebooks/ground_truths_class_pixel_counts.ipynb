{
 "cells": [
  {
   "cell_type": "code",
   "execution_count": 1,
   "id": "e659e7d1-1cf1-43e6-89e1-f06bb337f42a",
   "metadata": {},
   "outputs": [
    {
     "name": "stdout",
     "output_type": "stream",
     "text": [
      "/Users/deepakduggirala/Documents/autonomous-robotics/translating-images-into-maps\n"
     ]
    }
   ],
   "source": [
    "cd .."
   ]
  },
  {
   "cell_type": "code",
   "execution_count": 2,
   "id": "4cd769d9-c4ff-41a9-8c95-16c65357d818",
   "metadata": {},
   "outputs": [],
   "source": [
    "%matplotlib inline\n",
    "import matplotlib as mpl\n",
    "mpl.rcParams['figure.dpi']= 120"
   ]
  },
  {
   "cell_type": "code",
   "execution_count": 3,
   "id": "92011c1d-e787-4e61-afcb-7a09514cf93e",
   "metadata": {},
   "outputs": [],
   "source": [
    "import matplotlib.pyplot as plt"
   ]
  },
  {
   "cell_type": "code",
   "execution_count": 4,
   "id": "5a4e3964-0c12-4d30-abc3-659a68e75c44",
   "metadata": {},
   "outputs": [],
   "source": [
    "import os\n",
    "from pathlib import Path\n",
    "\n",
    "from collections import namedtuple, Counter\n",
    "import itertools\n",
    "\n",
    "import numpy as np\n",
    "\n",
    "from nuscenes.nuscenes import NuScenes\n",
    "import pickle\n",
    "import lmdb\n",
    "from PIL import Image\n",
    "import io\n",
    "import torch\n",
    "from torchvision.transforms.functional import to_tensor, to_pil_image\n",
    "\n",
    "import pandas as pd"
   ]
  },
  {
   "cell_type": "code",
   "execution_count": 5,
   "id": "90bef33b-f5b4-486b-897a-85cf57f54012",
   "metadata": {},
   "outputs": [],
   "source": [
    "from src.data.dataloader import nuScenesMaps, read_split"
   ]
  },
  {
   "cell_type": "code",
   "execution_count": 6,
   "id": "9b3c3b79-aa61-4bee-a465-0f131526521c",
   "metadata": {},
   "outputs": [],
   "source": [
    "data_root = Path.resolve(Path('/Users/deepakduggirala/Documents/autonomous-robotics/v1.0-trainval_meta/'))\n",
    "# nusc = NuScenes(version='v1.0-trainval', dataroot=data_root, verbose=False)"
   ]
  },
  {
   "cell_type": "code",
   "execution_count": 7,
   "id": "118fce19-4523-4929-aeb3-094d3dcc7e73",
   "metadata": {},
   "outputs": [],
   "source": [
    "tokens = read_split(\n",
    "            os.path.join(data_root, \"splits\", \"{}.txt\".format('train_roddick'))\n",
    "        )\n",
    "val_tokens = read_split(\n",
    "            os.path.join(data_root, \"splits\", \"{}.txt\".format('val_roddick'))\n",
    "        )"
   ]
  },
  {
   "cell_type": "code",
   "execution_count": 8,
   "id": "f4f68482-c09e-479e-9922-582b526ea0a7",
   "metadata": {},
   "outputs": [],
   "source": [
    "def get_cam_id(sample_token):\n",
    "    sample_record = nusc.get(\"sample\", sample_token)\n",
    "    cam_token = sample_record[\"data\"][\"CAM_FRONT\"]\n",
    "    cam_record = nusc.get(\"sample_data\", cam_token)\n",
    "    cam_path = nusc.get_sample_data_path(cam_token)\n",
    "    return Path(cam_path).stem"
   ]
  },
  {
   "cell_type": "code",
   "execution_count": 32,
   "id": "00b04723-6471-41b9-8173-6ab92beaed0c",
   "metadata": {},
   "outputs": [],
   "source": [
    "# token_cam_id_map = {token:get_cam_id(token) for token in tokens}"
   ]
  },
  {
   "cell_type": "code",
   "execution_count": 36,
   "id": "bc3a9005-4e53-4f43-aaf9-ac07f1030ac8",
   "metadata": {},
   "outputs": [],
   "source": [
    "# val_token_cam_id_map = {token:get_cam_id(token) for token in val_tokens}"
   ]
  },
  {
   "cell_type": "code",
   "execution_count": 40,
   "id": "73382523-6c05-42f7-8df2-f7fdd8b8c3d4",
   "metadata": {},
   "outputs": [],
   "source": [
    "# with open('train_roddick_token_cam_id_map.pickle', 'wb') as f:\n",
    "#     pickle.dump(token_cam_id_map, f)\n",
    "\n",
    "# with open('val_roddick_token_cam_id_map.pickle', 'wb') as f:\n",
    "#     pickle.dump(val_token_cam_id_map, f)  "
   ]
  },
  {
   "cell_type": "code",
   "execution_count": 11,
   "id": "8832f95a-e0d7-4c46-912f-bd816ded4a44",
   "metadata": {},
   "outputs": [
    {
     "data": {
      "text/plain": [
       "(28008, 5981)"
      ]
     },
     "execution_count": 11,
     "metadata": {},
     "output_type": "execute_result"
    }
   ],
   "source": [
    "with open('train_roddick_token_cam_id_map.pickle', 'rb') as f:\n",
    "    token_cam_id_map = pickle.load(f)\n",
    "\n",
    "with open('val_roddick_token_cam_id_map.pickle', 'rb') as f:\n",
    "    val_token_cam_id_map = pickle.load(f)  \n",
    "    \n",
    "len(token_cam_id_map), len(val_token_cam_id_map)"
   ]
  },
  {
   "cell_type": "code",
   "execution_count": 12,
   "id": "49ba2a11-b1e8-4758-a0d5-a43a5bc26472",
   "metadata": {},
   "outputs": [],
   "source": [
    "gtmaps_db_path = os.path.join(\n",
    "            data_root, \"lmdb\",\n",
    "            \"semantic_maps_new_200x200\"\n",
    "        )\n",
    "gtmaps_db = lmdb.open(\n",
    "            path=gtmaps_db_path,\n",
    "            readonly=True,\n",
    "            readahead=False,\n",
    "            max_spare_txns=128,\n",
    "            lock=False,\n",
    "        )"
   ]
  },
  {
   "cell_type": "code",
   "execution_count": 13,
   "id": "1f81ff77-ba46-446f-a19f-af871cbf0187",
   "metadata": {},
   "outputs": [
    {
     "data": {
      "text/plain": [
       "17"
      ]
     },
     "execution_count": 13,
     "metadata": {},
     "output_type": "execute_result"
    }
   ],
   "source": [
    "classes = [\n",
    "            \"drivable_area\",\n",
    "            \"ped_crossing\",\n",
    "            \"walkway\",\n",
    "            \"carpark_area\",\n",
    "            \"road_segment\",\n",
    "            \"lane\",\n",
    "            \"bus\",\n",
    "            \"bicycle\",\n",
    "            \"car\",\n",
    "            \"construction_vehicle\",\n",
    "            \"motorcycle\",\n",
    "            \"trailer\",\n",
    "            \"truck\",\n",
    "            \"pedestrian\",\n",
    "            \"trafficcone\",\n",
    "            \"barrier\",\n",
    "        ] + ['lidar_ray_mask_dense']\n",
    "len(classes)"
   ]
  },
  {
   "cell_type": "code",
   "execution_count": 14,
   "id": "47985533-feda-44c9-8ca7-5b63af334b18",
   "metadata": {},
   "outputs": [],
   "source": [
    "fov_mask = to_tensor(Image.open(\n",
    "            os.path.join(data_root, \"lmdb\", \"semantic_maps_new_200x200\", \"fov_mask.png\")\n",
    "        ))"
   ]
  },
  {
   "cell_type": "code",
   "execution_count": 15,
   "id": "6a120cb1-09ce-4c4d-9a2e-afefce38d002",
   "metadata": {},
   "outputs": [],
   "source": [
    "def merge_map_classes(mapsdict):\n",
    "    classes_to_merge = [\"drivable_area\", \"road_segment\", \"lane\"]\n",
    "    merged_class = 'drivable_area'\n",
    "    maps2merge = torch.stack([mapsdict[k] for k in classes_to_merge])  # [n, 1, 200, 200]\n",
    "    maps2merge = maps2merge.sum(dim=0)\n",
    "    maps2merge = (maps2merge > 0).float()\n",
    "    mapsdict[merged_class] = maps2merge\n",
    "    del mapsdict['road_segment'], mapsdict['lane']\n",
    "    return mapsdict"
   ]
  },
  {
   "cell_type": "code",
   "execution_count": 17,
   "id": "e1d4d705-d454-4255-98f2-ca46e70b6e51",
   "metadata": {},
   "outputs": [],
   "source": [
    "i=0\n",
    "cam_id = token_cam_id_map[tokens[i]]"
   ]
  },
  {
   "cell_type": "code",
   "execution_count": 16,
   "id": "e9ee562f-09c2-4b4f-95f6-23fa9e76b614",
   "metadata": {},
   "outputs": [],
   "source": [
    "def get_ground_truth_pixel_count(cam_id):\n",
    "    \n",
    "    gtmaps_key = [pickle.dumps(\"{}___{}\".format(cam_id, cls), 3) for cls in classes]\n",
    "    with gtmaps_db.begin() as txn:\n",
    "        value = [txn.get(key=key) for key in gtmaps_key]\n",
    "        gtmaps = [Image.open(io.BytesIO(im)) for im in value]\n",
    "    \n",
    "    # each map is of shape [1, 200, 200]\n",
    "    mapsdict = {cls: to_tensor(map) for cls, map in zip(classes, gtmaps)}\n",
    "    # mapsdict[\"fov_mask\"] = to_tensor(fov_mask)\n",
    "    mapsdict = merge_map_classes(mapsdict)\n",
    "\n",
    "    # Create visbility mask from lidar and fov masks\n",
    "    lidar_ray_mask = mapsdict['lidar_ray_mask_dense']\n",
    "    # fov_mask = mapsdict['fov_mask']\n",
    "    vis_mask = lidar_ray_mask * fov_mask\n",
    "    mapsdict['vis_mask'] = vis_mask\n",
    "\n",
    "    del mapsdict['lidar_ray_mask_dense']#, mapsdict['fov_mask']\n",
    "    # apply vis mask to maps\n",
    "    mapsdict = {\n",
    "        cls: cls_map * mapsdict['vis_mask'] for cls, cls_map in mapsdict.items()\n",
    "    }\n",
    "    \n",
    "    # del mapsdict['vis_mask']\n",
    "    \n",
    "    return {cls: cls_map.numpy().sum() for cls, cls_map in mapsdict.items()}"
   ]
  },
  {
   "cell_type": "code",
   "execution_count": 18,
   "id": "ba26d2ce-44df-4eba-971d-cd30ba4f2f3a",
   "metadata": {},
   "outputs": [
    {
     "data": {
      "text/plain": [
       "{'drivable_area': 13358.0,\n",
       " 'ped_crossing': 2426.0,\n",
       " 'walkway': 2149.0,\n",
       " 'carpark_area': 0.0,\n",
       " 'bus': 0.0,\n",
       " 'bicycle': 0.0,\n",
       " 'car': 472.0,\n",
       " 'construction_vehicle': 56.0,\n",
       " 'motorcycle': 0.0,\n",
       " 'trailer': 0.0,\n",
       " 'truck': 114.0,\n",
       " 'pedestrian': 42.0,\n",
       " 'trafficcone': 0.0,\n",
       " 'barrier': 165.0,\n",
       " 'vis_mask': 22781.0}"
      ]
     },
     "execution_count": 18,
     "metadata": {},
     "output_type": "execute_result"
    }
   ],
   "source": [
    "get_ground_truth_pixel_count(cam_id)"
   ]
  },
  {
   "cell_type": "code",
   "execution_count": null,
   "id": "9f4d4e11-a1cd-444e-ba02-47fb9411d073",
   "metadata": {},
   "outputs": [],
   "source": []
  },
  {
   "cell_type": "code",
   "execution_count": 19,
   "id": "a932257a-bdb8-4c59-ab91-6e12d71741fc",
   "metadata": {},
   "outputs": [],
   "source": [
    "train_pixel_counts = {token: get_ground_truth_pixel_count(token_cam_id_map[token]) for token in tokens}"
   ]
  },
  {
   "cell_type": "code",
   "execution_count": 20,
   "id": "8d179538-e0c1-4c20-8ba4-d6b52b2bd57e",
   "metadata": {},
   "outputs": [],
   "source": [
    "val_pixel_counts = {token: get_ground_truth_pixel_count(val_token_cam_id_map[token]) for token in val_tokens}"
   ]
  },
  {
   "cell_type": "code",
   "execution_count": 21,
   "id": "c6948b75-2d86-41df-9752-14f4139a757c",
   "metadata": {},
   "outputs": [],
   "source": [
    "# with open('train_pixel_counts.pickle', 'wb') as f:\n",
    "#     pickle.dump(train_pixel_counts, f)\n",
    "\n",
    "# with open('val_pixel_counts.pickle', 'wb') as f:\n",
    "#     pickle.dump(val_pixel_counts, f)  "
   ]
  },
  {
   "cell_type": "markdown",
   "id": "ea3ab52c-f344-49fd-bcb8-d9911ed5664f",
   "metadata": {},
   "source": [
    "# start here"
   ]
  },
  {
   "cell_type": "code",
   "execution_count": 22,
   "id": "ef7f51bb-a1ac-4feb-bff2-c7883f4359dd",
   "metadata": {},
   "outputs": [],
   "source": [
    "with open('train_pixel_counts.pickle', 'rb') as f:\n",
    "    train_pixel_counts = pickle.load(f)\n",
    "\n",
    "with open('val_pixel_counts.pickle', 'rb') as f:\n",
    "    val_pixel_counts = pickle.load(f)  "
   ]
  },
  {
   "cell_type": "code",
   "execution_count": null,
   "id": "744233a3-56ce-4060-b1de-507623fcb5e7",
   "metadata": {},
   "outputs": [],
   "source": []
  },
  {
   "cell_type": "code",
   "execution_count": 23,
   "id": "d31e7b01-9c16-4db4-9960-c98ccc8d3d02",
   "metadata": {},
   "outputs": [],
   "source": [
    "def create_df(pixel_counts):\n",
    "    df = pd.DataFrame(pixel_counts).T\n",
    "    x = df.values\n",
    "    rel_count = x/(x[:,-1].reshape(-1,1))\n",
    "    df_rel = pd.DataFrame(rel_count, columns=df.columns, index=df.index)\n",
    "    return df_rel.drop(columns=['vis_mask'])"
   ]
  },
  {
   "cell_type": "code",
   "execution_count": 160,
   "id": "d141ebfb-4199-4479-a6ae-a15cb3031539",
   "metadata": {},
   "outputs": [],
   "source": []
  },
  {
   "cell_type": "code",
   "execution_count": 24,
   "id": "72698737-f309-4e29-a77a-07161646960d",
   "metadata": {},
   "outputs": [],
   "source": [
    "train_pixel_counts_df = create_df(train_pixel_counts)\n",
    "val_pixel_counts_df = create_df(val_pixel_counts)"
   ]
  },
  {
   "cell_type": "code",
   "execution_count": 203,
   "id": "1131b097-5931-4583-9fe2-2e28d6e5d3eb",
   "metadata": {},
   "outputs": [],
   "source": [
    "def plot_class_pixel_area_dstbn(df):\n",
    "    fig, axs = plt.subplots(ncols=4, nrows=4, figsize=(8,8))\n",
    "\n",
    "    for i in range(4):\n",
    "        for j in range(4):\n",
    "            k = 4*i + j\n",
    "            if k < df.shape[1]:\n",
    "                ax = axs[i][j]\n",
    "                col = df.columns[k]\n",
    "                df[col].hist(ax=ax)\n",
    "                ax.set_title(col)\n",
    "\n",
    "    # access each axes object via axs.flat\n",
    "    for ax in axs.flat:\n",
    "        # check if something was plotted\n",
    "        if not bool(ax.has_data()):\n",
    "            fig.delaxes(ax)  # delete if nothing is plotted in the axes obj\n",
    "    fig.tight_layout()"
   ]
  },
  {
   "cell_type": "code",
   "execution_count": 25,
   "id": "31880dad-29de-452a-9c46-ae5e0b986991",
   "metadata": {},
   "outputs": [],
   "source": [
    "train_class_freq = (train_pixel_counts_df > 0).mean()\n",
    "train_pixel_area_ratio = train_pixel_counts_df.mean()\n",
    "\n",
    "val_class_freq = (val_pixel_counts_df > 0).mean()\n",
    "val_pixel_area_ratio = val_pixel_counts_df.mean()"
   ]
  },
  {
   "cell_type": "code",
   "execution_count": 26,
   "id": "4fc20ff3-4ae8-4f90-9f6e-b62b60ebb244",
   "metadata": {},
   "outputs": [],
   "source": [
    "train_stats = pd.concat([train_class_freq, train_pixel_area_ratio], axis=1)\n",
    "train_stats.columns = ['cls freq', 'mean rel. area']\n",
    "\n",
    "val_stats = pd.concat([val_class_freq, val_pixel_area_ratio], axis=1)\n",
    "val_stats.columns = ['cls freq', 'mean rel. area']\n",
    "# train_stats.sort_values(by='cls freq', ascending=False)"
   ]
  },
  {
   "cell_type": "code",
   "execution_count": 27,
   "id": "033e2c45-0a36-46e0-ad8e-5df9fe808be8",
   "metadata": {},
   "outputs": [
    {
     "data": {
      "text/html": [
       "<div>\n",
       "<style scoped>\n",
       "    .dataframe tbody tr th:only-of-type {\n",
       "        vertical-align: middle;\n",
       "    }\n",
       "\n",
       "    .dataframe tbody tr th {\n",
       "        vertical-align: top;\n",
       "    }\n",
       "\n",
       "    .dataframe thead th {\n",
       "        text-align: right;\n",
       "    }\n",
       "</style>\n",
       "<table border=\"1\" class=\"dataframe\">\n",
       "  <thead>\n",
       "    <tr style=\"text-align: right;\">\n",
       "      <th></th>\n",
       "      <th>train-26</th>\n",
       "      <th>train-40</th>\n",
       "      <th>val-26</th>\n",
       "      <th>val-40</th>\n",
       "    </tr>\n",
       "  </thead>\n",
       "  <tbody>\n",
       "    <tr>\n",
       "      <th>drivable_area</th>\n",
       "      <td>84.9</td>\n",
       "      <td>87.0</td>\n",
       "      <td>71.1</td>\n",
       "      <td>72.7</td>\n",
       "    </tr>\n",
       "    <tr>\n",
       "      <th>ped_crossing</th>\n",
       "      <td>63.6</td>\n",
       "      <td>69.2</td>\n",
       "      <td>34.2</td>\n",
       "      <td>34.9</td>\n",
       "    </tr>\n",
       "    <tr>\n",
       "      <th>walkway</th>\n",
       "      <td>52.5</td>\n",
       "      <td>57.3</td>\n",
       "      <td>32.8</td>\n",
       "      <td>33.9</td>\n",
       "    </tr>\n",
       "    <tr>\n",
       "      <th>carpark_area</th>\n",
       "      <td>61.9</td>\n",
       "      <td>68.4</td>\n",
       "      <td>30.7</td>\n",
       "      <td>30.0</td>\n",
       "    </tr>\n",
       "    <tr>\n",
       "      <th>bus</th>\n",
       "      <td>65.6</td>\n",
       "      <td>71.0</td>\n",
       "      <td>29.9</td>\n",
       "      <td>24.8</td>\n",
       "    </tr>\n",
       "    <tr>\n",
       "      <th>bicycle</th>\n",
       "      <td>34.3</td>\n",
       "      <td>42.6</td>\n",
       "      <td>14.0</td>\n",
       "      <td>8.6</td>\n",
       "    </tr>\n",
       "    <tr>\n",
       "      <th>car</th>\n",
       "      <td>46.6</td>\n",
       "      <td>51.8</td>\n",
       "      <td>38.2</td>\n",
       "      <td>37.9</td>\n",
       "    </tr>\n",
       "    <tr>\n",
       "      <th>construction_vehicle</th>\n",
       "      <td>48.5</td>\n",
       "      <td>55.7</td>\n",
       "      <td>0.2</td>\n",
       "      <td>0.0</td>\n",
       "    </tr>\n",
       "    <tr>\n",
       "      <th>motorcycle</th>\n",
       "      <td>34.9</td>\n",
       "      <td>45.4</td>\n",
       "      <td>7.5</td>\n",
       "      <td>5.7</td>\n",
       "    </tr>\n",
       "    <tr>\n",
       "      <th>trailer</th>\n",
       "      <td>50.2</td>\n",
       "      <td>58.6</td>\n",
       "      <td>11.7</td>\n",
       "      <td>9.8</td>\n",
       "    </tr>\n",
       "    <tr>\n",
       "      <th>truck</th>\n",
       "      <td>48.6</td>\n",
       "      <td>55.5</td>\n",
       "      <td>19.8</td>\n",
       "      <td>20.4</td>\n",
       "    </tr>\n",
       "    <tr>\n",
       "      <th>pedestrian</th>\n",
       "      <td>20.1</td>\n",
       "      <td>25.4</td>\n",
       "      <td>10.4</td>\n",
       "      <td>10.3</td>\n",
       "    </tr>\n",
       "    <tr>\n",
       "      <th>trafficcone</th>\n",
       "      <td>22.6</td>\n",
       "      <td>30.7</td>\n",
       "      <td>10.2</td>\n",
       "      <td>8.7</td>\n",
       "    </tr>\n",
       "    <tr>\n",
       "      <th>barrier</th>\n",
       "      <td>40.9</td>\n",
       "      <td>48.4</td>\n",
       "      <td>15.9</td>\n",
       "      <td>13.6</td>\n",
       "    </tr>\n",
       "  </tbody>\n",
       "</table>\n",
       "</div>"
      ],
      "text/plain": [
       "                      train-26  train-40  val-26  val-40\n",
       "drivable_area             84.9      87.0    71.1    72.7\n",
       "ped_crossing              63.6      69.2    34.2    34.9\n",
       "walkway                   52.5      57.3    32.8    33.9\n",
       "carpark_area              61.9      68.4    30.7    30.0\n",
       "bus                       65.6      71.0    29.9    24.8\n",
       "bicycle                   34.3      42.6    14.0     8.6\n",
       "car                       46.6      51.8    38.2    37.9\n",
       "construction_vehicle      48.5      55.7     0.2     0.0\n",
       "motorcycle                34.9      45.4     7.5     5.7\n",
       "trailer                   50.2      58.6    11.7     9.8\n",
       "truck                     48.6      55.5    19.8    20.4\n",
       "pedestrian                20.1      25.4    10.4    10.3\n",
       "trafficcone               22.6      30.7    10.2     8.7\n",
       "barrier                   40.9      48.4    15.9    13.6"
      ]
     },
     "execution_count": 27,
     "metadata": {},
     "output_type": "execute_result"
    }
   ],
   "source": [
    "best_iou = pd.read_csv('./best_iou.csv', index_col=0).T\n",
    "best_iou"
   ]
  },
  {
   "cell_type": "code",
   "execution_count": 32,
   "id": "9923f783-6d47-46a6-b6d1-2aa06f1c9b32",
   "metadata": {},
   "outputs": [
    {
     "data": {
      "text/html": [
       "<div>\n",
       "<style scoped>\n",
       "    .dataframe tbody tr th:only-of-type {\n",
       "        vertical-align: middle;\n",
       "    }\n",
       "\n",
       "    .dataframe tbody tr th {\n",
       "        vertical-align: top;\n",
       "    }\n",
       "\n",
       "    .dataframe thead th {\n",
       "        text-align: right;\n",
       "    }\n",
       "</style>\n",
       "<table border=\"1\" class=\"dataframe\">\n",
       "  <thead>\n",
       "    <tr style=\"text-align: right;\">\n",
       "      <th></th>\n",
       "      <th>cls freq</th>\n",
       "      <th>mean rel. area</th>\n",
       "      <th>train-26-iou</th>\n",
       "      <th>val-26-iou</th>\n",
       "    </tr>\n",
       "  </thead>\n",
       "  <tbody>\n",
       "    <tr>\n",
       "      <th>drivable_area</th>\n",
       "      <td>1.00</td>\n",
       "      <td>0.6962</td>\n",
       "      <td>84.9</td>\n",
       "      <td>71.1</td>\n",
       "    </tr>\n",
       "    <tr>\n",
       "      <th>ped_crossing</th>\n",
       "      <td>0.49</td>\n",
       "      <td>0.0372</td>\n",
       "      <td>63.6</td>\n",
       "      <td>34.2</td>\n",
       "    </tr>\n",
       "    <tr>\n",
       "      <th>walkway</th>\n",
       "      <td>0.97</td>\n",
       "      <td>0.1288</td>\n",
       "      <td>52.5</td>\n",
       "      <td>32.8</td>\n",
       "    </tr>\n",
       "    <tr>\n",
       "      <th>carpark_area</th>\n",
       "      <td>0.30</td>\n",
       "      <td>0.0220</td>\n",
       "      <td>61.9</td>\n",
       "      <td>30.7</td>\n",
       "    </tr>\n",
       "    <tr>\n",
       "      <th>bus</th>\n",
       "      <td>0.09</td>\n",
       "      <td>0.0022</td>\n",
       "      <td>65.6</td>\n",
       "      <td>29.9</td>\n",
       "    </tr>\n",
       "    <tr>\n",
       "      <th>bicycle</th>\n",
       "      <td>0.08</td>\n",
       "      <td>0.0004</td>\n",
       "      <td>34.3</td>\n",
       "      <td>14.0</td>\n",
       "    </tr>\n",
       "    <tr>\n",
       "      <th>car</th>\n",
       "      <td>0.76</td>\n",
       "      <td>0.0204</td>\n",
       "      <td>46.6</td>\n",
       "      <td>38.2</td>\n",
       "    </tr>\n",
       "    <tr>\n",
       "      <th>construction_vehicle</th>\n",
       "      <td>0.06</td>\n",
       "      <td>0.0009</td>\n",
       "      <td>48.5</td>\n",
       "      <td>0.2</td>\n",
       "    </tr>\n",
       "    <tr>\n",
       "      <th>motorcycle</th>\n",
       "      <td>0.07</td>\n",
       "      <td>0.0002</td>\n",
       "      <td>34.9</td>\n",
       "      <td>7.5</td>\n",
       "    </tr>\n",
       "    <tr>\n",
       "      <th>trailer</th>\n",
       "      <td>0.08</td>\n",
       "      <td>0.0020</td>\n",
       "      <td>50.2</td>\n",
       "      <td>11.7</td>\n",
       "    </tr>\n",
       "    <tr>\n",
       "      <th>truck</th>\n",
       "      <td>0.31</td>\n",
       "      <td>0.0053</td>\n",
       "      <td>48.6</td>\n",
       "      <td>19.8</td>\n",
       "    </tr>\n",
       "    <tr>\n",
       "      <th>pedestrian</th>\n",
       "      <td>0.49</td>\n",
       "      <td>0.0011</td>\n",
       "      <td>20.1</td>\n",
       "      <td>10.4</td>\n",
       "    </tr>\n",
       "    <tr>\n",
       "      <th>trafficcone</th>\n",
       "      <td>0.21</td>\n",
       "      <td>0.0003</td>\n",
       "      <td>22.6</td>\n",
       "      <td>10.2</td>\n",
       "    </tr>\n",
       "    <tr>\n",
       "      <th>barrier</th>\n",
       "      <td>0.20</td>\n",
       "      <td>0.0018</td>\n",
       "      <td>40.9</td>\n",
       "      <td>15.9</td>\n",
       "    </tr>\n",
       "  </tbody>\n",
       "</table>\n",
       "</div>"
      ],
      "text/plain": [
       "                      cls freq  mean rel. area  train-26-iou  val-26-iou\n",
       "drivable_area             1.00          0.6962          84.9        71.1\n",
       "ped_crossing              0.49          0.0372          63.6        34.2\n",
       "walkway                   0.97          0.1288          52.5        32.8\n",
       "carpark_area              0.30          0.0220          61.9        30.7\n",
       "bus                       0.09          0.0022          65.6        29.9\n",
       "bicycle                   0.08          0.0004          34.3        14.0\n",
       "car                       0.76          0.0204          46.6        38.2\n",
       "construction_vehicle      0.06          0.0009          48.5         0.2\n",
       "motorcycle                0.07          0.0002          34.9         7.5\n",
       "trailer                   0.08          0.0020          50.2        11.7\n",
       "truck                     0.31          0.0053          48.6        19.8\n",
       "pedestrian                0.49          0.0011          20.1        10.4\n",
       "trafficcone               0.21          0.0003          22.6        10.2\n",
       "barrier                   0.20          0.0018          40.9        15.9"
      ]
     },
     "execution_count": 32,
     "metadata": {},
     "output_type": "execute_result"
    }
   ],
   "source": [
    "train_stats['train-26-iou'] = best_iou['train-26']\n",
    "train_stats['val-26-iou'] = best_iou['val-26']\n",
    "# train_stats['k'] = (train_stats['cls freq'] * train_stats['mean rel. area'])/(train_stats['cls freq'] + train_stats['mean rel. area'])\n",
    "# train_stats.sort_values(by=['k'])\n",
    "# train_stats.to_csv('class_distribution_train_set.csv')\n",
    "train_stats['cls freq'] = train_stats['cls freq'].round(2)\n",
    "train_stats['mean rel. area'] = train_stats['mean rel. area'].round(4)\n",
    "train_stats.to_csv('class_distribution_train_set.csv')\n",
    "train_stats\n",
    "\n",
    "\n"
   ]
  },
  {
   "cell_type": "code",
   "execution_count": 256,
   "id": "48bb6714-f72e-484c-b5a2-78011c9d451c",
   "metadata": {},
   "outputs": [
    {
     "data": {
      "text/html": [
       "<div>\n",
       "<style scoped>\n",
       "    .dataframe tbody tr th:only-of-type {\n",
       "        vertical-align: middle;\n",
       "    }\n",
       "\n",
       "    .dataframe tbody tr th {\n",
       "        vertical-align: top;\n",
       "    }\n",
       "\n",
       "    .dataframe thead th {\n",
       "        text-align: right;\n",
       "    }\n",
       "</style>\n",
       "<table border=\"1\" class=\"dataframe\">\n",
       "  <thead>\n",
       "    <tr style=\"text-align: right;\">\n",
       "      <th></th>\n",
       "      <th>cls freq</th>\n",
       "      <th>mean rel. area</th>\n",
       "      <th>val-26</th>\n",
       "    </tr>\n",
       "  </thead>\n",
       "  <tbody>\n",
       "    <tr>\n",
       "      <th>motorcycle</th>\n",
       "      <td>0.050660</td>\n",
       "      <td>0.000128</td>\n",
       "      <td>7.5</td>\n",
       "    </tr>\n",
       "    <tr>\n",
       "      <th>construction_vehicle</th>\n",
       "      <td>0.073399</td>\n",
       "      <td>0.003313</td>\n",
       "      <td>0.2</td>\n",
       "    </tr>\n",
       "    <tr>\n",
       "      <th>bus</th>\n",
       "      <td>0.074235</td>\n",
       "      <td>0.001585</td>\n",
       "      <td>29.9</td>\n",
       "    </tr>\n",
       "    <tr>\n",
       "      <th>trafficcone</th>\n",
       "      <td>0.075405</td>\n",
       "      <td>0.000074</td>\n",
       "      <td>10.2</td>\n",
       "    </tr>\n",
       "    <tr>\n",
       "      <th>barrier</th>\n",
       "      <td>0.081926</td>\n",
       "      <td>0.001033</td>\n",
       "      <td>15.9</td>\n",
       "    </tr>\n",
       "    <tr>\n",
       "      <th>bicycle</th>\n",
       "      <td>0.085437</td>\n",
       "      <td>0.000524</td>\n",
       "      <td>14.0</td>\n",
       "    </tr>\n",
       "    <tr>\n",
       "      <th>trailer</th>\n",
       "      <td>0.086608</td>\n",
       "      <td>0.002259</td>\n",
       "      <td>11.7</td>\n",
       "    </tr>\n",
       "    <tr>\n",
       "      <th>pedestrian</th>\n",
       "      <td>0.315666</td>\n",
       "      <td>0.000550</td>\n",
       "      <td>10.4</td>\n",
       "    </tr>\n",
       "    <tr>\n",
       "      <th>carpark_area</th>\n",
       "      <td>0.328540</td>\n",
       "      <td>0.031206</td>\n",
       "      <td>30.7</td>\n",
       "    </tr>\n",
       "    <tr>\n",
       "      <th>truck</th>\n",
       "      <td>0.344591</td>\n",
       "      <td>0.006351</td>\n",
       "      <td>19.8</td>\n",
       "    </tr>\n",
       "    <tr>\n",
       "      <th>ped_crossing</th>\n",
       "      <td>0.374352</td>\n",
       "      <td>0.032505</td>\n",
       "      <td>34.2</td>\n",
       "    </tr>\n",
       "    <tr>\n",
       "      <th>car</th>\n",
       "      <td>0.743521</td>\n",
       "      <td>0.023808</td>\n",
       "      <td>38.2</td>\n",
       "    </tr>\n",
       "    <tr>\n",
       "      <th>walkway</th>\n",
       "      <td>0.951513</td>\n",
       "      <td>0.130499</td>\n",
       "      <td>32.8</td>\n",
       "    </tr>\n",
       "    <tr>\n",
       "      <th>drivable_area</th>\n",
       "      <td>1.000000</td>\n",
       "      <td>0.603094</td>\n",
       "      <td>71.1</td>\n",
       "    </tr>\n",
       "  </tbody>\n",
       "</table>\n",
       "</div>"
      ],
      "text/plain": [
       "                      cls freq  mean rel. area  val-26\n",
       "motorcycle            0.050660        0.000128     7.5\n",
       "construction_vehicle  0.073399        0.003313     0.2\n",
       "bus                   0.074235        0.001585    29.9\n",
       "trafficcone           0.075405        0.000074    10.2\n",
       "barrier               0.081926        0.001033    15.9\n",
       "bicycle               0.085437        0.000524    14.0\n",
       "trailer               0.086608        0.002259    11.7\n",
       "pedestrian            0.315666        0.000550    10.4\n",
       "carpark_area          0.328540        0.031206    30.7\n",
       "truck                 0.344591        0.006351    19.8\n",
       "ped_crossing          0.374352        0.032505    34.2\n",
       "car                   0.743521        0.023808    38.2\n",
       "walkway               0.951513        0.130499    32.8\n",
       "drivable_area         1.000000        0.603094    71.1"
      ]
     },
     "execution_count": 256,
     "metadata": {},
     "output_type": "execute_result"
    }
   ],
   "source": [
    "val_stats['val-26'] = best_iou['val-26']\n",
    "val_stats.sort_values(by=['cls freq'])"
   ]
  }
 ],
 "metadata": {
  "kernelspec": {
   "display_name": "Python 3 (ipykernel)",
   "language": "python",
   "name": "python3"
  },
  "language_info": {
   "codemirror_mode": {
    "name": "ipython",
    "version": 3
   },
   "file_extension": ".py",
   "mimetype": "text/x-python",
   "name": "python",
   "nbconvert_exporter": "python",
   "pygments_lexer": "ipython3",
   "version": "3.10.8"
  }
 },
 "nbformat": 4,
 "nbformat_minor": 5
}
