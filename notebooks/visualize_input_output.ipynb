{
 "cells": [
  {
   "cell_type": "code",
   "execution_count": 1,
   "id": "5a27f668-1dec-4a84-b6e8-938f72aa128f",
   "metadata": {},
   "outputs": [
    {
     "name": "stdout",
     "output_type": "stream",
     "text": [
      "/Users/deepakduggirala/Documents/autonomous-robotics/translating-images-into-maps\n"
     ]
    }
   ],
   "source": [
    "cd .."
   ]
  },
  {
   "cell_type": "code",
   "execution_count": 2,
   "id": "156ff59e-0924-4cf4-89bd-cdb10fe36054",
   "metadata": {},
   "outputs": [],
   "source": [
    "import matplotlib.pyplot as plt\n",
    "import matplotlib.patches as mpatches\n",
    "\n",
    "import numpy as np\n",
    "import cv2"
   ]
  },
  {
   "cell_type": "code",
   "execution_count": 3,
   "id": "f566eef1-15b4-4e49-b4d2-1ab98bd3a7dd",
   "metadata": {},
   "outputs": [],
   "source": [
    "import os\n",
    "from pathlib import Path\n",
    "\n",
    "from collections import namedtuple, Counter\n",
    "import itertools\n",
    "\n",
    "from nuscenes.nuscenes import NuScenes\n",
    "from nuscenes.utils.geometry_utils import BoxVisibility"
   ]
  },
  {
   "cell_type": "code",
   "execution_count": 4,
   "id": "3ee3ec79-d23d-4789-b5d8-ae8c160fe446",
   "metadata": {},
   "outputs": [],
   "source": [
    "from src.data.dataloader import nuScenesMaps, read_split"
   ]
  },
  {
   "cell_type": "code",
   "execution_count": 5,
   "id": "6d8f8a2f-11c1-49c7-818a-70117acd382c",
   "metadata": {},
   "outputs": [],
   "source": [
    "data_root = Path.resolve(Path('./nuscenes_data/'))\n",
    "nusc = NuScenes(version='v1.0-mini', dataroot=data_root, verbose=False)"
   ]
  },
  {
   "cell_type": "code",
   "execution_count": 6,
   "id": "9d3f59c6-dc66-49e9-b5bb-4264e02a8f57",
   "metadata": {},
   "outputs": [
    {
     "name": "stderr",
     "output_type": "stream",
     "text": [
      "/Users/deepakduggirala/miniforge3/envs/tim/lib/python3.10/site-packages/torch/functional.py:504: UserWarning: torch.meshgrid: in an upcoming release, it will be required to pass the indexing argument. (Triggered internally at /Users/runner/work/_temp/anaconda/conda-bld/pytorch_1666646835428/work/aten/src/ATen/native/TensorShape.cpp:3191.)\n",
      "  return _VF.meshgrid(tensors, **kwargs)  # type: ignore[attr-defined]\n"
     ]
    }
   ],
   "source": [
    "Args = namedtuple('Args', ['root', \n",
    "                           'train_split', \n",
    "                           'val_split',\n",
    "                           'grid_size', \n",
    "                           'grid_res', \n",
    "                           'load_classes_nusc', \n",
    "                           'data_size', \n",
    "                           'desired_image_size'])\n",
    "\n",
    "\n",
    "z_range = [1.0, 9.0, 21.0, 39.0, 51.0]\n",
    "grid_size = (z_range[-1] - z_range[0], z_range[-1] - z_range[0])\n",
    "\n",
    "classes = [\n",
    "    \"drivable_area\",\n",
    "    \"ped_crossing\",\n",
    "    \"walkway\",\n",
    "    \"carpark_area\",\n",
    "    \"road_segment\",\n",
    "    \"lane\",\n",
    "    \"bus\",\n",
    "    \"bicycle\",\n",
    "    \"car\",\n",
    "    \"construction_vehicle\",\n",
    "    \"motorcycle\",\n",
    "    \"trailer\",\n",
    "    \"truck\",\n",
    "    \"pedestrian\",\n",
    "    \"trafficcone\",\n",
    "    \"barrier\",\n",
    "]\n",
    "data_root = os.path.join(os.getcwd(), 'nuscenes_data')\n",
    "args = Args(root= data_root, # translating-images-into-maps/nuscenes_data\n",
    "            train_split='train_mini',            # ground truth name\n",
    "            val_split='val_mini',            # val ground truth name\n",
    "            grid_size=grid_size,                 # width and depth of validation grid, in meters\n",
    "            grid_res=0.5,                        # size of grid cells, in meters\n",
    "            load_classes_nusc=classes,           # Classes to load for NuScenes\n",
    "            data_size=1,                       # percentage of dataset to train on\n",
    "            desired_image_size=[1600, 900]       #size images are padded to before passing to network\n",
    "           )\n",
    "train_data = nuScenesMaps(\n",
    "        root=args.root,\n",
    "        split=args.train_split,\n",
    "        grid_size=args.grid_size,\n",
    "        grid_res=args.grid_res,\n",
    "        classes=args.load_classes_nusc,\n",
    "        dataset_size=args.data_size,\n",
    "        desired_image_size=args.desired_image_size,\n",
    "        mini=True,\n",
    "        gt_out_size=(100, 100),\n",
    "    )\n",
    "train_tokens = read_split(\n",
    "            os.path.join(data_root, \"splits\", \"{}.txt\".format('train_mini'))\n",
    "        )\n",
    "val_data = nuScenesMaps(\n",
    "        root=args.root,\n",
    "        split=args.val_split,\n",
    "        grid_size=args.grid_size,\n",
    "        grid_res=args.grid_res,\n",
    "        classes=args.load_classes_nusc,\n",
    "        dataset_size=args.data_size,\n",
    "        desired_image_size=args.desired_image_size,\n",
    "        mini=True,\n",
    "        gt_out_size=(100, 100),\n",
    "    )\n",
    "val_tokens = read_split(\n",
    "            os.path.join(data_root, \"splits\", \"{}.txt\".format('val_mini'))\n",
    "        )"
   ]
  },
  {
   "cell_type": "code",
   "execution_count": null,
   "id": "6d05b2c7-0ccb-4540-98f4-b939010bcac3",
   "metadata": {},
   "outputs": [],
   "source": [
    "def color_components(labels, color_map):\n",
    "    '''\n",
    "    label 0 is assigned white color to have a white background.\n",
    "\n",
    "    Iterates through the image to replace each pixel with the color associated with its label.\n",
    "\n",
    "    Returns the colored image.\n",
    "    '''\n",
    "    colors = np.zeros((labels.shape[0], labels.shape[1], 3), dtype=np.uint8)\n",
    "    # unique_labels = np.unique(labels)\n",
    "    # color_map = {l: np.random.choice(range(256), size=3) for l in unique_labels}  # assign random color to each label\n",
    "    # color_map[0] = np.array([255, 255, 255])  # white background\n",
    "\n",
    "    n_rows, n_cols = labels.shape\n",
    "    for i in range(n_rows):\n",
    "        for j in range(n_cols):\n",
    "            colors[i, j, :] = color_map.get(labels[i, j], np.array([255, 255, 255]))\n",
    "\n",
    "    return colors\n",
    "\n",
    "class_labels = ['drivable_area', 'ped_crossing', 'walkway', \n",
    "                'carpark_area', 'bus', 'bicycle', 'car', \n",
    "                'construction_vehicle', 'motorcycle', 'trailer', \n",
    "                'truck', 'pedestrian', 'trafficcone', 'barrier']\n",
    "color_map_labels = {\n",
    "    'drivable_area': np.array([160, 160, 160]), \n",
    "     'ped_crossing': np.array([0, 153, 0]), \n",
    "     'walkway'     : np.array([0, 102, 204]), \n",
    "     'carpark_area': np.array([96, 96, 96]), \n",
    "     'bus'         : np.array([255, 128, 0]), \n",
    "     'bicycle'     : np.array([255, 55, 255]), \n",
    "     'car'         : np.array([255, 255, 51]), \n",
    "     'construction_vehicle': np.array([153, 0, 76]), \n",
    "     'motorcycle'  : np.array([255, 55, 255]), \n",
    "     'trailer'     : np.array([204, 0, 0]), \n",
    "     'truck'       : np.array([255, 102, 102]), \n",
    "     'pedestrian'  : np.array([51, 51, 255]), \n",
    "     'trafficcone' : np.array([255, 204, 153]), \n",
    "     'barrier'     : np.array([64, 64, 64])\n",
    "}\n",
    "color_map = {(i+1):color for i,color in enumerate(color_map_labels.values())}"
   ]
  },
  {
   "cell_type": "code",
   "execution_count": null,
   "id": "93ce9e14-375b-4cff-bee5-aa25cb639767",
   "metadata": {},
   "outputs": [],
   "source": [
    "def plot_input_ouput(i_sample, render_lidar=True, out_path=None, dpi=300):\n",
    "    image, cls_maps, vis_mask, calib, grid2d = train_data.__getitem__(i_sample)\n",
    "    \n",
    "    composite = np.zeros((100,100), dtype=np.uint8)\n",
    "    for i in range(len(class_labels)):\n",
    "        img = cls_maps[i].numpy().astype(np.uint8)\n",
    "        img_flipped = cv2.flip(img, 0)\n",
    "        mask = img_flipped.astype(bool)\n",
    "        composite[mask] = i+1\n",
    "    colors = color_components(composite, color_map)\n",
    "    \n",
    "    sample = nusc.get('sample', tokens[i_sample])\n",
    "    lidar_token = sample['data']['LIDAR_TOP']\n",
    "    cam_front_token = sample['data']['CAM_FRONT']\n",
    "    \n",
    "    if render_lidar:\n",
    "        fig, axs = plt.subplots(nrows = 2, ncols=2, figsize=(15,15))\n",
    "        nusc.render_sample_data(cam_front_token, box_vis_level=BoxVisibility(0), verbose=False, ax=axs[0][0])\n",
    "        nusc.render_sample_data(lidar_token, nsweeps=10, underlay_map=False, box_vis_level=BoxVisibility(0), verbose=False, ax=axs[0][1])\n",
    "        ax = axs[1][0]\n",
    "    else:\n",
    "        fig, axs = plt.subplots(nrows = 1, ncols=2, figsize=(15, 15))\n",
    "        nusc.render_sample_data(cam_front_token, box_vis_level=BoxVisibility(0), verbose=False, ax=axs[0])\n",
    "        ax = axs[1]\n",
    "    ax.imshow(colors)\n",
    "    ax.set_title('BEV - ground truth')\n",
    "    legend_colors = [np.append(c/255, 1) for c in color_map.values()]\n",
    "    patches = [mpatches.Patch(color=legend_colors[i], label=label ) \n",
    "               for i, label in enumerate(color_map_labels.keys())]\n",
    "    ax.legend(handles=patches, bbox_to_anchor=(1.05, 1), loc=2, borderaxespad=0. )\n",
    "    ax.axis('off')\n",
    "\n",
    "    ## access each axes object via axs.flat\n",
    "    for ax in axs.flat:\n",
    "        ## check if something was plotted \n",
    "        if not bool(ax.has_data()):\n",
    "            fig.delaxes(ax) ## delete if nothing is plotted in the axes obj\n",
    "\n",
    "    fig.tight_layout()\n",
    "    if out_path:\n",
    "        fig.savefig(out_path, dpi=dpi)"
   ]
  },
  {
   "cell_type": "code",
   "execution_count": 11,
   "id": "eb54a3d3-7422-4d55-a98e-fdd7ea790927",
   "metadata": {},
   "outputs": [
    {
     "data": {
      "text/plain": [
       "404"
      ]
     },
     "execution_count": 11,
     "metadata": {},
     "output_type": "execute_result"
    }
   ],
   "source": [
    "len(nusc.sample)"
   ]
  },
  {
   "cell_type": "code",
   "execution_count": null,
   "id": "abe57cd3-21b7-4547-b8aa-0b65a684ac89",
   "metadata": {},
   "outputs": [],
   "source": [
    "plot_input_ouput(i_sample=50, render_lidar=True)"
   ]
  },
  {
   "cell_type": "code",
   "execution_count": 9,
   "id": "4e1afb5f-5829-4329-9ddb-1ee4ba8ad569",
   "metadata": {},
   "outputs": [
    {
     "data": {
      "text/plain": [
       "14"
      ]
     },
     "execution_count": 9,
     "metadata": {},
     "output_type": "execute_result"
    }
   ],
   "source": [
    "pred_classes=[\n",
    "            \"drivable_area\",\n",
    "            \"ped_crossing\",\n",
    "            \"walkway\",\n",
    "            \"carpark_area\",\n",
    "            \"bus\",\n",
    "            \"bicycle\",\n",
    "            \"car\",\n",
    "            \"construction_vehicle\",\n",
    "            \"motorcycle\",\n",
    "            \"trailer\",\n",
    "            \"truck\",\n",
    "            \"pedestrian\",\n",
    "            \"trafficcone\",\n",
    "            \"barrier\",\n",
    "        ]\n",
    "len(pred_classes)"
   ]
  },
  {
   "cell_type": "code",
   "execution_count": null,
   "id": "683f9e28-d6d3-4cd8-b411-4aa7b97627a7",
   "metadata": {},
   "outputs": [],
   "source": []
  },
  {
   "cell_type": "code",
   "execution_count": null,
   "id": "60995ccc-ec0f-46e6-9afd-111a44f3ada1",
   "metadata": {},
   "outputs": [],
   "source": []
  },
  {
   "cell_type": "code",
   "execution_count": 84,
   "id": "3b3687ae-4596-481f-87dc-1fd992b6ba7d",
   "metadata": {},
   "outputs": [
    {
     "data": {
      "image/png": "[encoded data removed]",
      "text/plain": [
       "<Figure size 1500x1500 with 16 Axes>"
      ]
     },
     "metadata": {},
     "output_type": "display_data"
    }
   ],
   "source": [
    "fig, ax = plt.subplots(nrows = 4, ncols=4, figsize=(15,15))\n",
    "\n",
    "for i in range(4):\n",
    "    for j in range(4):\n",
    "        k = i*4+j\n",
    "        if k < cls_maps.shape[0]:\n",
    "            img = cls_maps[k].numpy().astype(np.uint8)\n",
    "            img_flipped = cv2.flip(img, 0)\n",
    "            ax[i][j].imshow(img_flipped, cmap='gray', interpolation='none')\n",
    "            ax[i][j].set_title(class_labels[k])\n",
    "            ax[i][j].axis('off')"
   ]
  }
 ],
 "metadata": {
  "kernelspec": {
   "display_name": "Python 3 (ipykernel)",
   "language": "python",
   "name": "python3"
  },
  "language_info": {
   "codemirror_mode": {
    "name": "ipython",
    "version": 3
   },
   "file_extension": ".py",
   "mimetype": "text/x-python",
   "name": "python",
   "nbconvert_exporter": "python",
   "pygments_lexer": "ipython3",
   "version": "3.11.0"
  }
 },
 "nbformat": 4,
 "nbformat_minor": 5
}
